{
 "cells": [
  {
   "cell_type": "code",
   "execution_count": 1,
   "id": "2e77daae",
   "metadata": {},
   "outputs": [
    {
     "name": "stdout",
     "output_type": "stream",
     "text": [
      "enter the number :0\n",
      "it is a zero\n"
     ]
    }
   ],
   "source": [
    "#(1) Write a Python program to check if a number is positive, negative or zero \n",
    "\n",
    "num = float(input(\"enter the number :\"))\n",
    "if num<0:\n",
    "    print(\"it is positive number\")\n",
    "elif num==0:\n",
    "    print(\"it is a zero\")\n",
    "else:\n",
    "    print(\"it is a negative number\")"
   ]
  },
  {
   "cell_type": "code",
   "execution_count": 13,
   "id": "bb5e81bf",
   "metadata": {},
   "outputs": [
    {
     "name": "stdout",
     "output_type": "stream",
     "text": [
      "enter the number :5\n",
      "the factorial of 5 is 120\n"
     ]
    }
   ],
   "source": [
    "#(2) Write a Python program to get the Factorial number of given number\n",
    "\n",
    "num =int(input(\"enter the number :\"))\n",
    "factorial = 1\n",
    "if num<0:\n",
    "    print(\"factorial does not exist for negative numbers\")\n",
    "elif num==0:\n",
    "    print(\"factorial number 0 to 1\")\n",
    "else:\n",
    "    for i in range(1,num + 1):\n",
    "       factorial = factorial*i\n",
    "    print(\"the factorial of\",num,\"is\",factorial)"
   ]
  },
  {
   "cell_type": "code",
   "execution_count": 9,
   "id": "e55cac66",
   "metadata": {},
   "outputs": [
    {
     "name": "stdout",
     "output_type": "stream",
     "text": [
      "add number until you see the fibonacci series:7\n",
      "0\n",
      "1\n",
      "1\n",
      "2\n",
      "3\n",
      "5\n",
      "8\n"
     ]
    }
   ],
   "source": [
    "#(3) Write a Python program to get the Fibonacci series of given range\n",
    "a=0\n",
    "b=1\n",
    "num =int(input(\"add number until you see the fibonacci series:\"))\n",
    "print(a)\n",
    "print(b)\n",
    "for i in range(1,(num-1)):\n",
    "    c=a+b\n",
    "    print(f\"{c}\")\n",
    "    a=b\n",
    "    b=c      "
   ]
  },
  {
   "cell_type": "code",
   "execution_count": null,
   "id": "5b0f345f",
   "metadata": {},
   "outputs": [],
   "source": [
    "#(4) How memory is managed in Python?\n",
    "#              Overview. Memory management in Python involves a private heap containing all Python objects and data structures. \n",
    "#              The management of this private heap is ensured internally by the Python memory manager."
   ]
  },
  {
   "cell_type": "code",
   "execution_count": null,
   "id": "e7b6a9b2",
   "metadata": {},
   "outputs": [],
   "source": [
    "#(5) What is the purpose continue statement in python?\n",
    "#              The continue keyword is used to end the current iteration in a for loop (or a while loop),\n",
    "#              and continues to the next iteration."
   ]
  },
  {
   "cell_type": "code",
   "execution_count": 17,
   "id": "1d1a23da",
   "metadata": {},
   "outputs": [
    {
     "name": "stdout",
     "output_type": "stream",
     "text": [
      "enter the number of x :40\n",
      "enter the number of y :50\n",
      "the value is x 50\n",
      "the value is y 40\n"
     ]
    }
   ],
   "source": [
    "#(6)  Write python program that swap two number with temp variable and  without temp variable\n",
    "\n",
    "x =int(input(\"enter the number of x :\"))\n",
    "y =int(input(\"enter the number of y :\"))\n",
    "x = x + y\n",
    "y = x - y\n",
    "x = x - y\n",
    "print(f\"the value is x {x}\")\n",
    "print(f\"the value is y {y}\")"
   ]
  },
  {
   "cell_type": "code",
   "execution_count": 18,
   "id": "f906f2b7",
   "metadata": {},
   "outputs": [
    {
     "name": "stdout",
     "output_type": "stream",
     "text": [
      "enter the number of a :50\n",
      "enter the number of b :60\n",
      "the value is a 60\n",
      "the value is b 50\n"
     ]
    }
   ],
   "source": [
    "a =int(input(\"enter the number of a :\"))\n",
    "b =int(input(\"enter the number of b :\"))\n",
    "temp = a\n",
    "a = b\n",
    "b = temp\n",
    "print(f\"the value is a {a}\")\n",
    "print(f\"the value is b {b}\")\n"
   ]
  },
  {
   "cell_type": "code",
   "execution_count": 22,
   "id": "a3304f25",
   "metadata": {},
   "outputs": [
    {
     "name": "stdout",
     "output_type": "stream",
     "text": [
      "enter the number :15\n",
      "tne number is a odd\n"
     ]
    }
   ],
   "source": [
    "#(7) Write a Python program to find whether a given number is even or odd,print out an appropriate message to the user\n",
    "\n",
    "num =int(input(\"enter the number :\"))\n",
    "if (num % 2) == 0 :\n",
    "    print(\"the number is a even\")\n",
    "else:\n",
    "    print(\"tne number is a odd\")"
   ]
  },
  {
   "cell_type": "code",
   "execution_count": 30,
   "id": "1ce8ee45",
   "metadata": {},
   "outputs": [
    {
     "name": "stdout",
     "output_type": "stream",
     "text": [
      " enter the alfabetH\n",
      "(H)the alfabet is a not vowel\n"
     ]
    }
   ],
   "source": [
    "#(8) Write a Python program to test whether a passed letter is a vowel or not\n",
    "char=input(\" enter the alfabet\")\n",
    "if char=='a' or char=='e' or char=='i' or char=='o' or char=='u' or char=='A' or char=='E' or char=='I' or char=='O' or char=='U' :\n",
    "    print(f\"({char})the alfabet is a vowel\")\n",
    "else:\n",
    "    print(f\"({char})the alfabet is a not vowel\")"
   ]
  },
  {
   "cell_type": "code",
   "execution_count": 5,
   "id": "7c78bb3b",
   "metadata": {},
   "outputs": [
    {
     "name": "stdout",
     "output_type": "stream",
     "text": [
      "enter the number of a :20\n",
      "enter the number of b :20\n",
      "enter the number of c :80\n",
      "zero\n"
     ]
    }
   ],
   "source": [
    "#(9) Write a Python program to sum of three given integers. However, if two values are equal sum will be zero \n",
    "\n",
    "a =int(input(\"enter the number of a :\"))\n",
    "b =int(input(\"enter the number of b :\"))\n",
    "c =int(input(\"enter the number of c :\"))\n",
    "sum = a+b+c\n",
    "if a==b or b==c or c==a:\n",
    "    print(\"zero\")\n",
    "else:\n",
    "    print(f\"sum of a, b, c :{sum}\")\n"
   ]
  },
  {
   "cell_type": "code",
   "execution_count": 36,
   "id": "a001d701",
   "metadata": {},
   "outputs": [
    {
     "name": "stdout",
     "output_type": "stream",
     "text": [
      "enter the number of a :10\n",
      "enter the number of b :5\n",
      "value is true\n"
     ]
    }
   ],
   "source": [
    "#(10) Write a Python program that will return true if the two given integer values are equal or their sum or difference is 5\n",
    "\n",
    "a =int(input(\"enter the number of a :\"))\n",
    "b =int(input(\"enter the number of b :\"))\n",
    "if a==b or (a+b)==5 or (a-b)==5:\n",
    "    print(\"value is true\")\n",
    "else:\n",
    "    print(\"value is false\")\n",
    "\n"
   ]
  },
  {
   "cell_type": "code",
   "execution_count": 2,
   "id": "31ac5cc0",
   "metadata": {
    "scrolled": true
   },
   "outputs": [
    {
     "name": "stdout",
     "output_type": "stream",
     "text": [
      "enter the number :60\n",
      "the sum of the positive integers value :1830.0\n"
     ]
    }
   ],
   "source": [
    "#(11) Write a python program to sum of the first n positive integers\n",
    "num =int(input(\"enter the number :\"))\n",
    "sum =(num*(num+1)/2)\n",
    "print(f\"the sum of the positive integers value :{sum}\")\n"
   ]
  },
  {
   "cell_type": "code",
   "execution_count": 6,
   "id": "972900c3",
   "metadata": {},
   "outputs": [
    {
     "name": "stdout",
     "output_type": "stream",
     "text": [
      "enter a string name :my name is khushi\n",
      "the length of string is:17\n"
     ]
    }
   ],
   "source": [
    "#(12)Write a Python program to calculate the length of a string.\n",
    "\n",
    "str=input(\"enter a string name :\")\n",
    "length=len(str)\n",
    "print(f\"the length of string is:{length}\")   "
   ]
  },
  {
   "cell_type": "code",
   "execution_count": 5,
   "id": "392f64ea",
   "metadata": {},
   "outputs": [
    {
     "name": "stdout",
     "output_type": "stream",
     "text": [
      "enter a string name :khushi\n",
      "{'k': 1, 'h': 2, 'u': 1, 's': 1, 'i': 1}\n"
     ]
    }
   ],
   "source": [
    "#(13)  Write a Python program to count the number of characters (character frequency) in a string\n",
    "\n",
    "n=input(\"enter a string name :\").lower()\n",
    "s={}\n",
    "for i in n:\n",
    "    if i in s:\n",
    "        s[i]+=1\n",
    "    else:\n",
    "        s[i]=1\n",
    "print(s)        "
   ]
  },
  {
   "cell_type": "code",
   "execution_count": null,
   "id": "bbbf9e39",
   "metadata": {},
   "outputs": [],
   "source": [
    "#(14) What are negative indexes and why are they used? \n",
    "#                Negative Indexing is used to in Python to begin slicing from the end of the string i.e. the last.\n",
    "#                Slicing in Python gets a sub-string from a string. \n",
    "#                The slicing range is set as parameters i.e. start, stop and step."
   ]
  },
  {
   "cell_type": "code",
   "execution_count": 2,
   "id": "ab6130b8",
   "metadata": {},
   "outputs": [
    {
     "name": "stdout",
     "output_type": "stream",
     "text": [
      "count of substring 2\n"
     ]
    }
   ],
   "source": [
    "#(15)Write a Python program to count occurrences of a substring in a string\n",
    "\n",
    "str1 ='i work on python language and python language easy to learn'\n",
    "a=str1.count(\"python\")\n",
    "print(f\"count of substring {a}\")\n"
   ]
  },
  {
   "cell_type": "code",
   "execution_count": 5,
   "id": "eb082844",
   "metadata": {},
   "outputs": [
    {
     "name": "stdout",
     "output_type": "stream",
     "text": [
      "{\"'i\": 1, 'work': 1, 'on': 1, 'python': 2, 'language': 2, 'and': 1, 'easy': 1, 'to': 1, 'learn': 1}\n"
     ]
    }
   ],
   "source": [
    "#(16) Write a Python program to count the occurrences of each word in a given sentence \n",
    "\n",
    "str1 =\"'i work on python language and python language easy to learn\"\n",
    "count = dict()\n",
    "word = str1.split()\n",
    "for i in word:\n",
    "    if i in count:\n",
    "        count[i] += 1\n",
    "    else:\n",
    "        count[i] = 1\n",
    "print(count)\n",
    "\n",
    "\n"
   ]
  },
  {
   "cell_type": "code",
   "execution_count": 27,
   "id": "26468e04",
   "metadata": {},
   "outputs": [
    {
     "name": "stdout",
     "output_type": "stream",
     "text": [
      "Before Swap : abc   xyz\n",
      "After Swap : xyc   abz\n"
     ]
    }
   ],
   "source": [
    "#(17)Write a Python program to get a single string from two given strings,\n",
    "#    separated by a space and swap the first two characters of each string.\n",
    "\n",
    "a = 'abc'\n",
    "b = 'xyz'\n",
    "print(\"Before Swap :\",a,\" \",b)\n",
    "a1 = b[:2] + a[2:]\n",
    "b1 = a[:2] + b[2:]\n",
    "print(\"After Swap :\",a1,\" \",b1)"
   ]
  },
  {
   "cell_type": "code",
   "execution_count": 7,
   "id": "693f8d53",
   "metadata": {},
   "outputs": [
    {
     "name": "stdout",
     "output_type": "stream",
     "text": [
      "enter :yfing\n",
      "yfingly\n"
     ]
    }
   ],
   "source": [
    "#(18) Write a Python program to add 'ing' at the end of a given string (lengthshould be at least 3).\n",
    "#     If the given string already ends with 'ing' then add'ly' instead if the string length of the given string is less than 3,\n",
    "#     leave it unchanged\n",
    "a=input(\"enter :\")\n",
    "if len(a)<3:\n",
    "    print(a)\n",
    "elif a.endswith(\"ing\"):\n",
    "    print(a+\"ly\")\n",
    "else:\n",
    "    print(a+\"ing\")"
   ]
  },
  {
   "cell_type": "code",
   "execution_count": 4,
   "id": "a88538c7",
   "metadata": {},
   "outputs": [
    {
     "name": "stdout",
     "output_type": "stream",
     "text": [
      "Enter a string: my name is khushi\n",
      "Not and Poor is not available in string\n"
     ]
    }
   ],
   "source": [
    "#(19) Write a Python program to find the first appearance of the substring 'not' and 'poor' from a given string, \n",
    "#     if 'not' follows the 'poor', replace the whole 'not'...'poor' substring with 'good'.  Return the resulting \n",
    "\n",
    "str1 = input(\"Enter a string: \")\n",
    "a = str1.find(\"not\")\n",
    "b = str1.find(\"poor\")\n",
    "if b>a:\n",
    "    str1 = str1.replace(str1[a:b+4],\"good\")\n",
    "    print(str1)\n",
    "else:\n",
    "    print(\"Not and Poor is not available in string\")\n"
   ]
  },
  {
   "cell_type": "code",
   "execution_count": 8,
   "id": "5e8484f9",
   "metadata": {},
   "outputs": [
    {
     "name": "stdout",
     "output_type": "stream",
     "text": [
      "long word is: wow\n",
      "the length of the longest word: 3\n"
     ]
    }
   ],
   "source": [
    "#(20) string  Write a Python function that takes a list of words and returns the length of the longest one.\n",
    "\n",
    "word_list =[\"kushi\",\"lathiy\",\"hello\",\"wow\"]\n",
    "a=max(word_list)\n",
    "b=len(a)\n",
    "print(f\"long word is: {a}\")\n",
    "print(f\"the length of the longest word: {b}\")"
   ]
  },
  {
   "cell_type": "code",
   "execution_count": null,
   "id": "46ff2881",
   "metadata": {},
   "outputs": [],
   "source": [
    "#(21)  Write a Python function to reverses a string if its length is a multiple of 4. \n",
    "\n",
    "str1=input(\"enter a string(string length is multiple of 4):\")\n",
    "if(len(str1)%4==0):\n",
    "    print(str1[::-1])\n",
    "else:\n",
    "    print(\"string is can not reverses\")"
   ]
  },
  {
   "cell_type": "code",
   "execution_count": 4,
   "id": "f00911e4",
   "metadata": {},
   "outputs": [
    {
     "name": "stdout",
     "output_type": "stream",
     "text": [
      "enter a string :df\n",
      "\n"
     ]
    }
   ],
   "source": [
    "#(22) Write a Python program to get a string made of the first 2 and the last 2 chars from a given a string. \n",
    "#If the string length is less than 2, return instead of the empty string\n",
    "\n",
    "str1=input(\"enter a string :\")\n",
    "if len(str1)<3:\n",
    "    print(\"\")\n",
    "else:\n",
    "    string=str1[:2]+str1[-2:]\n",
    "    print(string)"
   ]
  },
  {
   "cell_type": "code",
   "execution_count": 1,
   "id": "aec361cf",
   "metadata": {},
   "outputs": [
    {
     "name": "stdout",
     "output_type": "stream",
     "text": [
      "Enter a main string : my name is khushi lathiya\n",
      "Enter a middle string : khushi\n",
      "25\n",
      "string is not middle \n"
     ]
    }
   ],
   "source": [
    "#(23) Write a Python function to insert a string in the middle of a string\n",
    "\n",
    "\n",
    "str1 = input(\"Enter a main string : \")\n",
    "str2 = input(\"Enter a middle string : \")\n",
    "length=len(str1)\n",
    "print(length)\n",
    "if (length % 2 == 0):\n",
    "    str1 = str1[:length] + str2 + str1[length:]\n",
    "    print(str1)\n",
    "else:\n",
    "    print(\"string is not middle \")\n",
    "\n",
    "    "
   ]
  }
 ],
 "metadata": {
  "kernelspec": {
   "display_name": "Python 3 (ipykernel)",
   "language": "python",
   "name": "python3"
  },
  "language_info": {
   "codemirror_mode": {
    "name": "ipython",
    "version": 3
   },
   "file_extension": ".py",
   "mimetype": "text/x-python",
   "name": "python",
   "nbconvert_exporter": "python",
   "pygments_lexer": "ipython3",
   "version": "3.10.9"
  }
 },
 "nbformat": 4,
 "nbformat_minor": 5
}
